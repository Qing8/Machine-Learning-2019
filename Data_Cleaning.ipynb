{
 "cells": [
  {
   "cell_type": "code",
   "execution_count": 34,
   "metadata": {},
   "outputs": [],
   "source": [
    "import torch \n",
    "import torch.nn as nn\n",
    "import torch.nn.functional as F\n",
    "import torch.optim as optim\n",
    "import matplotlib.pyplot as plt\n",
    "import pandas as pd\n",
    "import numpy as np"
   ]
  },
  {
   "cell_type": "code",
   "execution_count": 35,
   "metadata": {},
   "outputs": [],
   "source": [
    "%matplotlib inline"
   ]
  },
  {
   "cell_type": "code",
   "execution_count": 36,
   "metadata": {},
   "outputs": [],
   "source": [
    "# Device configuration\n",
    "device = torch.device('cuda' if torch.cuda.is_available() else 'cpu')"
   ]
  },
  {
   "cell_type": "code",
   "execution_count": 37,
   "metadata": {},
   "outputs": [],
   "source": [
    "# Hyper-parameters\n",
    "sequence_length = 12\n",
    "input_size = 6\n",
    "hidden_size = 32\n",
    "num_layers = 2\n",
    "num_classes = 2\n",
    "batch_size = 64\n",
    "num_epochs = 2\n",
    "learning_rate = 0.05"
   ]
  },
  {
   "cell_type": "code",
   "execution_count": 38,
   "metadata": {},
   "outputs": [],
   "source": [
    "# load data Set\n",
    "df_train = pd.read_csv(\"data_train.csv\")\n",
    "df_test = pd.read_csv(\"data_test.csv\")"
   ]
  },
  {
   "cell_type": "code",
   "execution_count": 39,
   "metadata": {},
   "outputs": [],
   "source": [
    "# drop velocity data\n",
    "\n",
    "df_train = df_train.drop(columns = [\"vmax\",\"vmin\",\"vmean\"])\n",
    "df_test = df_test.drop(columns= [\"vmax\",\"vmin\",\"vmean\"])"
   ]
  },
  {
   "cell_type": "code",
   "execution_count": 40,
   "metadata": {},
   "outputs": [],
   "source": [
    "# add labels to each row in data_train.csv\n",
    "\n",
    "center = torch.tensor([3750901.5068, 3770901.5068, -19268905.6133, -19208905.6133])\n",
    "def label_df(df_train):\n",
    "    if 3750901.5068<df_train['x_exit']<3770901.5068 and -19268905.6133<df_train['y_exit']<-19208905.6133:\n",
    "        return 1\n",
    "    return 0\n",
    "\n",
    "df_train['label'] = df_train.apply(label_df,axis=1)"
   ]
  },
  {
   "cell_type": "code",
   "execution_count": 41,
   "metadata": {},
   "outputs": [],
   "source": [
    "# data preprocessing\n",
    "    # normalize the columns [\"x_entry\",\"y_entry\",\"x_exit\",\"y_exit\"] (& normalize the center area)\n",
    "    # convert time (xx : yy : zz) into integer\n",
    "    # normalize two time columns\n",
    "df_train_norm = df_train.copy()\n",
    "norm_x_entry = (df_train[\"x_entry\"] - df_train[\"x_entry\"].mean()) / (df_train[\"x_entry\"].max() - df_train[\"x_entry\"])\n",
    "norm_y_entry = (df_train[\"x_exit\"] - df_train[\"x_exit\"].mean()) / (df_train[\"x_exit\"].max() - df_train[\"x_exit\"])\n",
    "norm_x_exit = (df_train[\"y_entry\"] - df_train[\"y_entry\"].mean()) / (df_train[\"y_entry\"].max() - df_train[\"y_entry\"])\n",
    "norm_y_exit = (df_train[\"y_exit\"] - df_train[\"y_exit\"].mean()) / (df_train[\"y_exit\"].max() - df_train[\"y_exit\"])\n",
    "\n",
    "df_train_norm[\"x_entry\"] = norm_x_entry\n",
    "df_train_norm[\"x_exit\"] = norm_x_exit\n",
    "df_train_norm[\"y_entry\"] = norm_y_entry\n",
    "df_train_norm[\"y_exit\"] = norm_y_entry\n",
    "\n",
    "\n",
    "df_train_norm[\"time_entry\"] = df_train_norm[\"time_entry\"].str.replace(\":\",\"\").astype(int)\n",
    "df_train_norm[\"time_exit\"] = df_train_norm[\"time_exit\"].str.replace(\":\",\"\").astype(int)\n",
    "norm_time_entry = (df_train_norm[\"time_entry\"] - df_train_norm[\"time_entry\"].mean()) / (df_train_norm[\"time_entry\"].max() - df_train_norm[\"time_entry\"])\n",
    "norm_time_exit = (df_train_norm[\"time_exit\"] - df_train_norm[\"time_exit\"].mean()) / (df_train_norm[\"time_exit\"].max() - df_train_norm[\"time_exit\"])\n",
    "df_train_norm[\"time_entry\"] = norm_time_entry\n",
    "df_train_norm[\"time_exit\"]  = norm_time_exit\n"
   ]
  },
  {
   "cell_type": "code",
   "execution_count": 44,
   "metadata": {},
   "outputs": [],
   "source": [
    "df_train_norm.to_csv(r\"/Users/qing/School Study/Machine Learning/final project/normalied_train_data.csv\")"
   ]
  }
 ],
 "metadata": {
  "kernelspec": {
   "display_name": "Python 3",
   "language": "python",
   "name": "python3"
  },
  "language_info": {
   "codemirror_mode": {
    "name": "ipython",
    "version": 3
   },
   "file_extension": ".py",
   "mimetype": "text/x-python",
   "name": "python",
   "nbconvert_exporter": "python",
   "pygments_lexer": "ipython3",
   "version": "3.7.3"
  }
 },
 "nbformat": 4,
 "nbformat_minor": 2
}
